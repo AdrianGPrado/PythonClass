{
 "cells": [
  {
   "cell_type": "markdown",
   "metadata": {},
   "source": [
    "# Roman Numerals\n",
    "\n",
    "Roman numerals come from the ancient Roman numbering system. They are based on specific letters of the alphabet which are combined to signify the sum (or, in some cases, the difference) of their values. The first ten Roman numerals are:\n",
    "I, II, III, IV, V, VI, VII, VIII, IX, and X.\n",
    "The Roman numeral system is decimal based but not directly positional and does not include a zero. Roman numerals are based on combinations of these seven symbols:\n",
    "Symbol Value\n",
    "I 1 (unus)\n",
    "V 5 (quinque)\n",
    "X 10 (decem)\n",
    "L 50 (quinquaginta)\n",
    "C 100 (centum)\n",
    "D 500 (quingenti)\n",
    "M 1,000 (mille)\n",
    "More additional information about roman numerals can be found on the Wikipedia article.\n",
    "For this task, you should return a roman numeral using the specified integer value ranging from 1 to 3999.\n",
    "Input: A number as an integer.\n",
    "Output: The Roman numeral as a string.\n",
    "Precondition: 0 < number < 4000"
   ]
  },
  {
   "cell_type": "code",
   "execution_count": 3,
   "metadata": {
    "collapsed": true
   },
   "outputs": [],
   "source": [
    "romanToDec = (('M', 1000),\n",
    "              ('CM', 900),\n",
    "              ('D', 500),\n",
    "              ('CD', 400),\n",
    "              ('C', 100),\n",
    "              ('XC', 90),\n",
    "              ('L', 50),\n",
    "              ('XL', 40),\n",
    "              ('X', 10),\n",
    "              ('IX', 9),\n",
    "              ('V', 5),\n",
    "              ('IV', 4),\n",
    "              ('I', 1))"
   ]
  },
  {
   "cell_type": "code",
   "execution_count": null,
   "metadata": {
    "collapsed": true
   },
   "outputs": [],
   "source": [
    "from itertools import product\n",
    "\n",
    "def romanNumerals(data):\n",
    "    # replace this for solution\n",
    "    result = ''\n",
    "    for roman, i in product(romanToDec, range(3)):\n",
    "        if data >= roman[1]:\n",
    "            result += roman[0]\n",
    "            data -= roman[1]\n",
    "\n",
    "\n",
    "    return result"
   ]
  },
  {
   "cell_type": "code",
   "execution_count": 13,
   "metadata": {
    "collapsed": false
   },
   "outputs": [],
   "source": [
    "def romanNumerals(data):\n",
    "    # replace this for solution\n",
    "    result = ''\n",
    "    for roman, val in romanToDec:\n",
    "        result += data//val * roman\n",
    "        data    = data%val\n",
    " \n",
    "    return result"
   ]
  },
  {
   "cell_type": "code",
   "execution_count": 14,
   "metadata": {
    "collapsed": false
   },
   "outputs": [
    {
     "name": "stdout",
     "output_type": "stream",
     "text": [
      "True 6\n"
     ]
    }
   ],
   "source": [
    "print(romanNumerals(6) == 'VI', '6')"
   ]
  },
  {
   "cell_type": "code",
   "execution_count": 15,
   "metadata": {
    "collapsed": false
   },
   "outputs": [
    {
     "name": "stdout",
     "output_type": "stream",
     "text": [
      "True 76\n"
     ]
    }
   ],
   "source": [
    "print(romanNumerals(76) == 'LXXVI', '76')"
   ]
  },
  {
   "cell_type": "code",
   "execution_count": 16,
   "metadata": {
    "collapsed": false
   },
   "outputs": [
    {
     "name": "stdout",
     "output_type": "stream",
     "text": [
      "True 499\n"
     ]
    }
   ],
   "source": [
    "print(romanNumerals(499) == 'CDXCIX', '499')"
   ]
  },
  {
   "cell_type": "code",
   "execution_count": 11,
   "metadata": {
    "collapsed": false
   },
   "outputs": [
    {
     "name": "stdout",
     "output_type": "stream",
     "text": [
      "True 3888\n"
     ]
    }
   ],
   "source": [
    "print(romanNumerals(3888) == 'MMMDCCCLXXXVIII', '3888')"
   ]
  }
 ],
 "metadata": {
  "kernelspec": {
   "display_name": "Python 3",
   "language": "python",
   "name": "python3"
  },
  "language_info": {
   "codemirror_mode": {
    "name": "ipython",
    "version": 3
   },
   "file_extension": ".py",
   "mimetype": "text/x-python",
   "name": "python",
   "nbconvert_exporter": "python",
   "pygments_lexer": "ipython3",
   "version": "3.5.2"
  }
 },
 "nbformat": 4,
 "nbformat_minor": 1
}
