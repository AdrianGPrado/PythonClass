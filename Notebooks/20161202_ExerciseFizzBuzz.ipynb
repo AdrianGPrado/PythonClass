{
 "cells": [
  {
   "cell_type": "markdown",
   "metadata": {},
   "source": [
    "# Fizz Buzz\n",
    "\"Fizz buzz\" is a word game we will use to teach the robots about division. Let's learn computers.\n",
    "You should write a function that will receive a positive integer and return:\n",
    "\"Fizz Buzz\" if the number is divisible by 3 and by 5;\n",
    "\"Fizz\" if the number is divisible by 3;\n",
    "\"Buzz\" if the number is divisible by 5; \n",
    "The number as a string for other cases.\n",
    "Input: A number as an integer.\n",
    "Output: The answer as a string.\n",
    "Precondition: 0 < number ≤ 1000"
   ]
  },
  {
   "cell_type": "code",
   "execution_count": 1,
   "metadata": {
    "collapsed": true
   },
   "outputs": [],
   "source": [
    "def fizzbuzz(number):\n",
    "    #Your code here\n",
    "    \n",
    "    isDivBy3 = number % 3 == 0\n",
    "    isDivBy5 = number % 5 == 0\n",
    "    \n",
    "    strResult = ''\n",
    "    if isDivBy3 and isDivBy5:\n",
    "        strResult += 'Fizz Buzz'\n",
    "    elif isDivBy3 and not isDivBy5:\n",
    "        strResult += 'Fizz'\n",
    "    elif not isDivBy3 and isDivBy5:\n",
    "        strResult += 'Buzz'\n",
    "    else:\n",
    "        strResult += str(number)\n",
    "    \n",
    "    return strResult"
   ]
  },
  {
   "cell_type": "code",
   "execution_count": 2,
   "metadata": {
    "collapsed": false
   },
   "outputs": [
    {
     "name": "stdout",
     "output_type": "stream",
     "text": [
      "True 15 is divisible by 3 and 5\n"
     ]
    }
   ],
   "source": [
    "#These \"asserts\" using only for self-checking and not necessary for auto-testing\n",
    "print(fizzbuzz(15) == \"Fizz Buzz\", \"15 is divisible by 3 and 5\")"
   ]
  },
  {
   "cell_type": "code",
   "execution_count": 3,
   "metadata": {
    "collapsed": false
   },
   "outputs": [
    {
     "name": "stdout",
     "output_type": "stream",
     "text": [
      "True 6 is divisible by 3\n"
     ]
    }
   ],
   "source": [
    "print(fizzbuzz(6) == \"Fizz\", \"6 is divisible by 3\")"
   ]
  },
  {
   "cell_type": "code",
   "execution_count": 4,
   "metadata": {
    "collapsed": false
   },
   "outputs": [
    {
     "name": "stdout",
     "output_type": "stream",
     "text": [
      "True 5 is divisible by 5\n"
     ]
    }
   ],
   "source": [
    "print(fizzbuzz(5) == \"Buzz\", \"5 is divisible by 5\")"
   ]
  },
  {
   "cell_type": "code",
   "execution_count": 5,
   "metadata": {
    "collapsed": false
   },
   "outputs": [
    {
     "name": "stdout",
     "output_type": "stream",
     "text": [
      "True 7 is not divisible by 3 or 5\n"
     ]
    }
   ],
   "source": [
    "print(fizzbuzz(7) == \"7\", \"7 is not divisible by 3 or 5\")"
   ]
  },
  {
   "cell_type": "code",
   "execution_count": null,
   "metadata": {
    "collapsed": true
   },
   "outputs": [],
   "source": []
  }
 ],
 "metadata": {
  "kernelspec": {
   "display_name": "Python 3",
   "language": "python",
   "name": "python3"
  },
  "language_info": {
   "codemirror_mode": {
    "name": "ipython",
    "version": 3
   },
   "file_extension": ".py",
   "mimetype": "text/x-python",
   "name": "python",
   "nbconvert_exporter": "python",
   "pygments_lexer": "ipython3",
   "version": "3.5.2"
  }
 },
 "nbformat": 4,
 "nbformat_minor": 1
}
