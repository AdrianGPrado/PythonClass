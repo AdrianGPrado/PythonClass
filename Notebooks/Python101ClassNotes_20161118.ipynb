{
 "cells": [
  {
   "cell_type": "markdown",
   "metadata": {},
   "source": [
    "# Welcome to NRG Python 101 Class\n",
    "\n",
    "## Why are we here\n",
    "\n",
    "To learn python as a tool to improve the current workflow.\n",
    "\n",
    "- Python is a mutly-purpose, multy-paradigm language, so you can build from a simple script to really complex applications.\n",
    "\n",
    "- NRG In-house main usage is data analysis but I encourage you to explore the different posibilities that this tool offers:\n",
    "    - [Unit test excel macros](https://www.zoomeranalytics.com/blog/unittests-for-microsoft-excel)\n",
    "    - [Padas statiscital analysis](http://pandas.pydata.org/)\n",
    " "
   ]
  },
  {
   "cell_type": "markdown",
   "metadata": {},
   "source": [
    "## Python basic concepts"
   ]
  },
  {
   "cell_type": "markdown",
   "metadata": {},
   "source": [
    "### Comments:\n",
    "Lines that start wih `#` are comments and will not be executed by the interpreter. This is extremelly usefull when we want other people to understand why did we write that piece of code. (Other people also includes your future you)."
   ]
  },
  {
   "cell_type": "code",
   "execution_count": 2,
   "metadata": {
    "collapsed": false
   },
   "outputs": [
    {
     "data": {
      "text/plain": [
       "2"
      ]
     },
     "execution_count": 2,
     "metadata": {},
     "output_type": "execute_result"
    }
   ],
   "source": [
    "# I'm a comment, I won't be executed\n",
    "\"\"\"\n",
    "I am a block comment, also documentation\n",
    "\"\"\"\n",
    "1 + 1 # You can place a comment after the code in the line (Unrecomended)"
   ]
  },
  {
   "cell_type": "markdown",
   "metadata": {},
   "source": [
    "### Code Output\n",
    "Generaly speaking we want our code to have an output. Either in the form of `files`, `logs`, `plots`, `webpages` or simple `print` statements."
   ]
  },
  {
   "cell_type": "code",
   "execution_count": 9,
   "metadata": {
    "collapsed": false
   },
   "outputs": [
    {
     "name": "stdout",
     "output_type": "stream",
     "text": [
      "Hello Friend1\n",
      "Hello Friend 1\n"
     ]
    }
   ],
   "source": [
    "print('Hello Friend' +  '1')\n",
    "# print('Hello friend', 1)\n",
    "print('Hello Friend', str(1))"
   ]
  },
  {
   "cell_type": "markdown",
   "metadata": {},
   "source": [
    "### Reserved words\n",
    "All languages have a grammar, which is comoposed from specific words and how this words are possitioned with each other.\n",
    "- The keyboard is __on__ the table\n",
    "- The chair is __by__ the table\n",
    "    \n",
    "This are the python language reserved words, and the python interpreter will use the to understand what do you want the code to do.\n",
    "\n",
    "    and       del       from      not       while    \n",
    "    as        elif      global    or        with     \n",
    "    assert    else      if        pass      yield    \n",
    "    break     except    import    print              \n",
    "    class     exec      in        raise              \n",
    "    continue  finally   is        return             \n",
    "    def       for       lambda    try"
   ]
  },
  {
   "cell_type": "code",
   "execution_count": 14,
   "metadata": {
    "collapsed": false
   },
   "outputs": [
    {
     "data": {
      "text/plain": [
       "False"
      ]
     },
     "execution_count": 14,
     "metadata": {},
     "output_type": "execute_result"
    }
   ],
   "source": [
    " not True and True"
   ]
  },
  {
   "cell_type": "markdown",
   "metadata": {},
   "source": [
    "### Variables:\n",
    "Python stores data inside variables. Variables in Python follow the standard nomenclature of an alphanumeric name beginning in a letter or underscore. Variable names are case sensitive. Variables do not need to be declared and their datatypes are inferred from the assignment statement."
   ]
  },
  {
   "cell_type": "code",
   "execution_count": 17,
   "metadata": {
    "collapsed": false
   },
   "outputs": [
    {
     "name": "stdout",
     "output_type": "stream",
     "text": [
      "True False\n",
      "0 1 57\n",
      "1.7898765697797898\n",
      "1.5\n",
      "Hello Friend\n",
      "[0, 1, 57]\n",
      "[0, 1, 57]\n",
      "[0, 1, 57, 1.5, 'Hello Friend']\n",
      "None\n"
     ]
    }
   ],
   "source": [
    "# boolean\n",
    "isTrue = True\n",
    "isFalse = False\n",
    "print(isTrue, isFalse)\n",
    "# integer\n",
    "oneInt = 0\n",
    "anothInt = 1\n",
    "extraInt = 57\n",
    "print(oneInt, anothInt, extraInt)\n",
    "# long\n",
    "iNeedDecimalsALotOfThem = 1.789876569779789870776776788980607869656597565857445865487658678654976089760\n",
    "print(iNeedDecimalsALotOfThem)\n",
    "# float\n",
    "iNeed8Decimlas = 1.5\n",
    "print(iNeed8Decimlas)\n",
    "# string\n",
    "helloFriend = 'Hello Friend'\n",
    "\n",
    "\n",
    "\n",
    "print(helloFriend)\n",
    "# list\n",
    "intList = [oneInt, anothInt, extraInt]\n",
    "# Dictioaries\n",
    "myDict = {'A': intList}\n",
    "print(myDict['A'])\n",
    "print(intList)\n",
    "mixList = intList + [iNeed8Decimlas, helloFriend]\n",
    "print(mixList)\n",
    "# object In future sessions\n",
    "\n",
    "# None\n",
    "imNone = None\n",
    "print(imNone)"
   ]
  },
  {
   "cell_type": "markdown",
   "metadata": {},
   "source": [
    "### Functions\n",
    "##### Keyword __def__\n",
    "\n",
    "    def functionName(argument1, argument2):\n",
    "\n",
    "        functionResult = argument1 + argument2\n",
    "\n",
    "        return functionResult\n",
    "\n",
    "A function is a blok of code we want to reuse, or isolate, or test, or all of them.\n",
    "\n",
    "- Functions are declared using the keyword `def`\n",
    "- Arguments are passed within `(...)`\n",
    "- The arguments and the variables defined inside the function will only be usable within the function __scope__ or **name_space**\n",
    "- The return statement."
   ]
  },
  {
   "cell_type": "code",
   "execution_count": 11,
   "metadata": {
    "collapsed": false
   },
   "outputs": [
    {
     "name": "stdout",
     "output_type": "stream",
     "text": [
      "7\n"
     ]
    }
   ],
   "source": [
    "def funcSum(int1, int2):\n",
    "    intSum = int1 + int2\n",
    "    return intSum\n",
    "\n",
    "print(funcSum(3, 4))"
   ]
  },
  {
   "cell_type": "code",
   "execution_count": 12,
   "metadata": {
    "collapsed": false
   },
   "outputs": [
    {
     "name": "stdout",
     "output_type": "stream",
     "text": [
      "The Zen of Python, by Tim Peters\n",
      "\n",
      "Beautiful is better than ugly.\n",
      "Explicit is better than implicit.\n",
      "Simple is better than complex.\n",
      "Complex is better than complicated.\n",
      "Flat is better than nested.\n",
      "Sparse is better than dense.\n",
      "Readability counts.\n",
      "Special cases aren't special enough to break the rules.\n",
      "Although practicality beats purity.\n",
      "Errors should never pass silently.\n",
      "Unless explicitly silenced.\n",
      "In the face of ambiguity, refuse the temptation to guess.\n",
      "There should be one-- and preferably only one --obvious way to do it.\n",
      "Although that way may not be obvious at first unless you're Dutch.\n",
      "Now is better than never.\n",
      "Although never is often better than *right* now.\n",
      "If the implementation is hard to explain, it's a bad idea.\n",
      "If the implementation is easy to explain, it may be a good idea.\n",
      "Namespaces are one honking great idea -- let's do more of those!\n"
     ]
    }
   ],
   "source": [
    "import this"
   ]
  },
  {
   "cell_type": "code",
   "execution_count": null,
   "metadata": {
    "collapsed": true
   },
   "outputs": [],
   "source": []
  }
 ],
 "metadata": {
  "kernelspec": {
   "display_name": "Python 3",
   "language": "python",
   "name": "python3"
  },
  "language_info": {
   "codemirror_mode": {
    "name": "ipython",
    "version": 3
   },
   "file_extension": ".py",
   "mimetype": "text/x-python",
   "name": "python",
   "nbconvert_exporter": "python",
   "pygments_lexer": "ipython3",
   "version": "3.5.2"
  }
 },
 "nbformat": 4,
 "nbformat_minor": 1
}
