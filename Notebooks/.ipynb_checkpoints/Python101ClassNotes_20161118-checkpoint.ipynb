{
 "cells": [
  {
   "cell_type": "markdown",
   "metadata": {},
   "source": [
    "# Welcome to NRG Python 101 Class\n",
    "\n",
    "## Why are we here\n",
    "\n",
    "To learn python as a tool to improve the current workflow.\n",
    "\n",
    "- Python is a mutly-purpose, multy-paradigm language, so you can build from a simple script to really complex applications.\n",
    "\n",
    "- NRG In-house main usage is data analysis but I encourage you to explore the different posibilities that this tool offers:\n",
    "    - [Unit test excel macros](https://www.zoomeranalytics.com/blog/unittests-for-microsoft-excel)\n",
    "    - [Padas statiscital analysis](http://pandas.pydata.org/)\n",
    " "
   ]
  },
  {
   "cell_type": "markdown",
   "metadata": {},
   "source": [
    "## Python basic concepts"
   ]
  },
  {
   "cell_type": "markdown",
   "metadata": {},
   "source": [
    "### Comments:\n",
    "Lines that start wih `#` are comments and will not be executed by the interpreter. This is extremelly usefull when we want other people to understand why did we write that piece of code. (Other people also includes your future you)."
   ]
  },
  {
   "cell_type": "code",
   "execution_count": 2,
   "metadata": {
    "collapsed": false
   },
   "outputs": [
    {
     "data": {
      "text/plain": [
       "2"
      ]
     },
     "execution_count": 2,
     "metadata": {},
     "output_type": "execute_result"
    }
   ],
   "source": [
    "# I'm a comment, I won't be executed\n",
    "1 + 1 # You can place a comment after the code in the line (Unrecomended)"
   ]
  },
  {
   "cell_type": "markdown",
   "metadata": {},
   "source": [
    "### Code Output\n",
    "Generaly speaking we want our code to have an output. Either in the form of `files`, `logs`, `plots`, `webpages` or simple `print` statements."
   ]
  },
  {
   "cell_type": "code",
   "execution_count": 3,
   "metadata": {
    "collapsed": false
   },
   "outputs": [
    {
     "name": "stdout",
     "output_type": "stream",
     "text": [
      "Hello Friend\n"
     ]
    }
   ],
   "source": [
    "print('Hello Friend')"
   ]
  },
  {
   "cell_type": "markdown",
   "metadata": {},
   "source": [
    "### Variables:\n",
    "Python stores data inside variables. Variables in Python follow the standard nomenclature of an alphanumeric name beginning in a letter or underscore. Variable names are case sensitive. Variables do not need to be declared and their datatypes are inferred from the assignment statement."
   ]
  },
  {
   "cell_type": "code",
   "execution_count": 4,
   "metadata": {
    "collapsed": false
   },
   "outputs": [
    {
     "name": "stdout",
     "output_type": "stream",
     "text": [
      "True False\n",
      "0 1 57\n"
     ]
    }
   ],
   "source": [
    "# boolean\n",
    "isTrue = True\n",
    "isFalse = False\n",
    "print(isTrue, isFalse)\n",
    "# integer\n",
    "oneInt = 0\n",
    "anothInt = 1\n",
    "extraInt = 57\n",
    "print(oneInt, anothInt, extraInt)\n",
    "# long\n",
    "iNeedDecimalsALotOfThem = 1.789876569779789870776776788980607869656597565857445865487658678654976089760\n",
    "print(iNeedDecimalsALotOfThem)\n",
    "# float\n",
    "iNeed8Decimlas = 1.5\n",
    "print(iNeed8Decimlas)\n",
    "# string\n",
    "helloFriend = 'Hello Friend'\n",
    "print(helloFriend)\n",
    "# list\n",
    "intList = [oneInt, anothInt, extraInt]\n",
    "print(intList)\n",
    "mixList = intList + [iNeed8Decimlas, helloFriend]\n",
    "print(mixList)\n",
    "# object\n",
    "\n",
    "# None"
   ]
  },
  {
   "cell_type": "code",
   "execution_count": 1,
   "metadata": {
    "collapsed": false
   },
   "outputs": [
    {
     "name": "stdout",
     "output_type": "stream",
     "text": [
      "The Zen of Python, by Tim Peters\n",
      "\n",
      "Beautiful is better than ugly.\n",
      "Explicit is better than implicit.\n",
      "Simple is better than complex.\n",
      "Complex is better than complicated.\n",
      "Flat is better than nested.\n",
      "Sparse is better than dense.\n",
      "Readability counts.\n",
      "Special cases aren't special enough to break the rules.\n",
      "Although practicality beats purity.\n",
      "Errors should never pass silently.\n",
      "Unless explicitly silenced.\n",
      "In the face of ambiguity, refuse the temptation to guess.\n",
      "There should be one-- and preferably only one --obvious way to do it.\n",
      "Although that way may not be obvious at first unless you're Dutch.\n",
      "Now is better than never.\n",
      "Although never is often better than *right* now.\n",
      "If the implementation is hard to explain, it's a bad idea.\n",
      "If the implementation is easy to explain, it may be a good idea.\n",
      "Namespaces are one honking great idea -- let's do more of those!\n"
     ]
    }
   ],
   "source": [
    "import this"
   ]
  },
  {
   "cell_type": "code",
   "execution_count": null,
   "metadata": {
    "collapsed": true
   },
   "outputs": [],
   "source": []
  }
 ],
 "metadata": {
  "kernelspec": {
   "display_name": "Python 3",
   "language": "python",
   "name": "python3"
  },
  "language_info": {
   "codemirror_mode": {
    "name": "ipython",
    "version": 3
   },
   "file_extension": ".py",
   "mimetype": "text/x-python",
   "name": "python",
   "nbconvert_exporter": "python",
   "pygments_lexer": "ipython3",
   "version": "3.5.2"
  }
 },
 "nbformat": 4,
 "nbformat_minor": 1
}
